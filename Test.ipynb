{
  "nbformat": 4,
  "nbformat_minor": 0,
  "metadata": {
    "colab": {
      "name": "Test.ipynb",
      "provenance": []
    },
    "kernelspec": {
      "name": "python3",
      "display_name": "Python 3"
    },
    "language_info": {
      "name": "python"
    }
  },
  "cells": [
    {
      "cell_type": "code",
      "metadata": {
        "id": "CMSfeCfhuENT",
        "colab": {
          "base_uri": "https://localhost:8080/"
        },
        "outputId": "13fa24fe-9016-4698-ba0f-53babf5b1d99"
      },
      "source": [
        "\"\"\"Python program to print all odd numbers in a list\"\"\"\n",
        "O_list = [1,2,3,4,5,6,7,8,9]\n",
        "odd = [num for num in O_list if num % 2 != 0]\n",
        "print(\"odd numbers is : \", odd)"
      ],
      "execution_count": 1,
      "outputs": [
        {
          "output_type": "stream",
          "name": "stdout",
          "text": [
            "odd numbers is :  [1, 3, 5, 7, 9]\n"
          ]
        }
      ]
    },
    {
      "cell_type": "code",
      "source": [
        "\"\"\"Python program to find the sum of list element\"\"\"\n",
        "numlist = ['1','0','47','44','11','54','28','69','45']\n",
        "plus=0\n",
        "for i in numlist:\n",
        "    plus+=int(i)\n",
        "print('Sum of List: ',plus)"
      ],
      "metadata": {
        "colab": {
          "base_uri": "https://localhost:8080/"
        },
        "id": "fZOdUlSWnbXr",
        "outputId": "83c57292-a7bc-4823-f123-a30b8f614de1"
      },
      "execution_count": 2,
      "outputs": [
        {
          "output_type": "stream",
          "name": "stdout",
          "text": [
            "Sum of List:  299\n"
          ]
        }
      ]
    },
    {
      "cell_type": "code",
      "source": [
        "\"\"\"Python program to reverse a list in two ways\"\"\"\n",
        "Cars = ['Toyota','Kia','Hundai','Suzuki']\n",
        "reverse = Cars[::-1]\n",
        "print(reverse)"
      ],
      "metadata": {
        "colab": {
          "base_uri": "https://localhost:8080/"
        },
        "id": "JcmC90hvpJY6",
        "outputId": "a649ef47-a3b7-47db-dcec-d8edae3e2919"
      },
      "execution_count": 3,
      "outputs": [
        {
          "output_type": "stream",
          "name": "stdout",
          "text": [
            "['Suzuki', 'Hundai', 'Kia', 'Toyota']\n"
          ]
        }
      ]
    },
    {
      "cell_type": "code",
      "source": [
        "\"\"\"Python program in python to find the second highest number in list\"\"\"\n",
        "\n",
        "a=[]\n",
        "n=int(input(\"Enter number of elements:\"))\n",
        "for i in range(1,n+1):\n",
        "    b=int(input(\"Enter element:\"))\n",
        "    a.append(b)\n",
        "a.sort()\n",
        "print(\"Second largest element is:\",a[n-2])"
      ],
      "metadata": {
        "colab": {
          "base_uri": "https://localhost:8080/"
        },
        "id": "71WgRUCevm8a",
        "outputId": "d91df1c7-7c28-468f-df8d-40158755bfb7"
      },
      "execution_count": 4,
      "outputs": [
        {
          "output_type": "stream",
          "name": "stdout",
          "text": [
            "Enter number of elements:15\n",
            "Enter element:45\n",
            "Enter element:86\n",
            "Enter element:79\n",
            "Enter element:21\n",
            "Enter element:84\n",
            "Enter element:97\n",
            "Enter element:46\n",
            "Enter element:25\n",
            "Enter element:78\n",
            "Enter element:92\n",
            "Enter element:15\n",
            "Enter element:97\n",
            "Enter element:25\n",
            "Enter element:4\n",
            "Enter element:57\n",
            "Second largest element is: 97\n"
          ]
        }
      ]
    },
    {
      "cell_type": "code",
      "source": [
        "\"\"\"maximum number prograam\"\"\"\n",
        "heights = [12, 21, 30, 101, 11, 15]\n",
        "largest_number = heights[0]\n",
        "for number in heights:\n",
        "    if number > largest_number:\n",
        "        largest_number = number\n",
        "print(largest_number)\n"
      ],
      "metadata": {
        "colab": {
          "base_uri": "https://localhost:8080/"
        },
        "id": "33o3uWkWyO3X",
        "outputId": "19359dc4-22c3-4c81-b30e-f9d8998cda2a"
      },
      "execution_count": 5,
      "outputs": [
        {
          "output_type": "stream",
          "name": "stdout",
          "text": [
            "101\n"
          ]
        }
      ]
    },
    {
      "cell_type": "code",
      "source": [
        "\"\"\"program which sort in desending order\"\"\"\n",
        "list1=['ahmed' , 'ali' ,' mohsin' , 'saqlain']\n",
        "list1.sort()\n",
        "print(list1)"
      ],
      "metadata": {
        "colab": {
          "base_uri": "https://localhost:8080/"
        },
        "id": "Hv1GZ6Wx0DU1",
        "outputId": "32584492-6b9c-4427-f3a2-053079b3e35e"
      },
      "execution_count": 6,
      "outputs": [
        {
          "output_type": "stream",
          "name": "stdout",
          "text": [
            "[' mohsin', 'ahmed', 'ali', 'saqlain']\n"
          ]
        }
      ]
    },
    {
      "cell_type": "code",
      "source": [
        "\"\"\"program which remove element\"\"\"\n",
        "name=['ahmed' , 'muneeb' , 'saqlain' , 'rehmat' , 'wajid' , 'monis']\n",
        "name.remove('monis')\n",
        "print(name)"
      ],
      "metadata": {
        "colab": {
          "base_uri": "https://localhost:8080/"
        },
        "id": "554d1UxpznNO",
        "outputId": "e91c7d78-62ae-4890-d7a3-7e8747976902"
      },
      "execution_count": 7,
      "outputs": [
        {
          "output_type": "stream",
          "name": "stdout",
          "text": [
            "['ahmed', 'muneeb', 'saqlain', 'rehmat', 'wajid']\n"
          ]
        }
      ]
    },
    {
      "cell_type": "code",
      "source": [
        "\"\"\"program which check it is vovel or consonant\"\"\"\n",
        "char = input(\"Enter a character: \")\n",
        "\n",
        "if(char=='A' or char=='a' or char=='E' or char =='e' or char=='I'\n",
        " or char=='i' or char=='O' or char=='o' or char=='U' or char=='u'):\n",
        "    print(char, \"is a Vowel\")\n",
        "else:\n",
        "    print(char, \"is a Consonant\")"
      ],
      "metadata": {
        "colab": {
          "base_uri": "https://localhost:8080/"
        },
        "id": "jXL_Pj7_2_6D",
        "outputId": "351452b4-a300-4aed-d40e-7f3ee1f12a67"
      },
      "execution_count": 12,
      "outputs": [
        {
          "output_type": "stream",
          "name": "stdout",
          "text": [
            "Enter a character: h\n",
            "h is a Consonant\n"
          ]
        }
      ]
    },
    {
      "cell_type": "code",
      "source": [
        "\"\"\"Python program to find the factorial of a number provided by the user.\"\"\"\n",
        "\n",
        "\n",
        "num = int(input(\"Enter a number: \"))\n",
        "\n",
        "factorial = 1\n",
        "\n",
        "if num < 0:\n",
        "   print(\"Sorry, factorial does not exist for negative numbers\")\n",
        "elif num == 0:\n",
        "   print(\"The factorial of 0 is 1\")\n",
        "else:\n",
        "   for i in range(1,num + 1):\n",
        "       factorial = factorial*i\n",
        "   print(\"The factorial of\",num,\"is\",factorial)"
      ],
      "metadata": {
        "id": "LqAn-NVW5VcQ"
      },
      "execution_count": null,
      "outputs": []
    },
    {
      "cell_type": "code",
      "source": [
        "\"\"\"program which merge two list\"\"\"\n",
        "list1 = [\"a\", \"b\" , \"c\"]\n",
        "list2 = [1, 2, 3]\n",
        "\n",
        "list3 = list1 + list2\n",
        "print(list3)"
      ],
      "metadata": {
        "colab": {
          "base_uri": "https://localhost:8080/"
        },
        "id": "tRfnhD4C6EQv",
        "outputId": "f39cf816-27dc-4dd0-93c6-67092bb54fbb"
      },
      "execution_count": 13,
      "outputs": [
        {
          "output_type": "stream",
          "name": "stdout",
          "text": [
            "['a', 'b', 'c', 1, 2, 3]\n"
          ]
        }
      ]
    }
  ]
}